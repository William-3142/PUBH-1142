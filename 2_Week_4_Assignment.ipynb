{
 "cells": [
  {
   "cell_type": "markdown",
   "metadata": {},
   "source": [
    "# <span style=\"color:#ffa500\">Week 4 Assignment</span>"
   ]
  },
  {
   "cell_type": "markdown",
   "metadata": {},
   "source": [
    "##### <span style=\"color:#0096FF\">1. What is the difference between a spreadsheet and a database?</span>"
   ]
  },
  {
   "cell_type": "markdown",
   "metadata": {},
   "source": [
    "- **Spreadsheet**: Ideal for calculations and small datasets, with a flat or tabular structure, limited data relations, and basic security measures.\n",
    "- **Database**: Designed to manage and manipulate large datasets, featuring complex structures (tables and relations), built-in measures for data integrity, and advanced security measures."
   ]
  },
  {
   "cell_type": "markdown",
   "metadata": {},
   "source": [
    "##### <span style=\"color:#0096FF\">2. What are the advantages and disadvantages of using a spreadsheet for health data management?</span>"
   ]
  },
  {
   "cell_type": "markdown",
   "metadata": {},
   "source": [
    "- **Advantages**:\n",
    "  - User-friendly interface for data entry and manipulation.\n",
    "  - Quick and intuitive for small datasets.\n",
    "  - Basic data analysis and visualization capabilities.\n",
    "- **Disadvantages**:\n",
    "  - Limited data capacity and performance for large datasets.\n",
    "  - Lack of built-in data integrity measures.\n",
    "  - Not suitable for complex data relationships."
   ]
  },
  {
   "cell_type": "markdown",
   "metadata": {},
   "source": [
    "##### <span style=\"color:#0096FF\">3. What are the advantages and disadvantages of using a database for health data management?</span>"
   ]
  },
  {
   "cell_type": "markdown",
   "metadata": {},
   "source": [
    "- **Advantages**:\n",
    "  - Can handle large volumes of data efficiently.\n",
    "  - Maintains data integrity and supports complex relationships.\n",
    "  - Advanced querying and reporting capabilities.\n",
    "- **Disadvantages**:\n",
    "  - Requires knowledge of database design and SQL.\n",
    "  - More complex to learn and use compared to spreadsheets."
   ]
  },
  {
   "cell_type": "markdown",
   "metadata": {},
   "source": [
    "##### <span style=\"color:#0096FF\">4. What are some examples of tasks that can be performed using a spreadsheet?</span>"
   ]
  },
  {
   "cell_type": "markdown",
   "metadata": {},
   "source": [
    "- Data entry and manipulation.\n",
    "- Basic calculations (SUM, AVERAGE).\n",
    "- Creating charts and visualizations.\n",
    "- Sorting and filtering data."
   ]
  },
  {
   "cell_type": "markdown",
   "metadata": {},
   "source": [
    "##### <span style=\"color:#0096FF\">5. What are some examples of tasks that can be performed using a database?</span>"
   ]
  },
  {
   "cell_type": "markdown",
   "metadata": {},
   "source": [
    "- Managing large datasets.\n",
    "- Performing complex queries and reporting.\n",
    "- Ensuring data integrity through relationships.\n",
    "- Facilitating multi-user access and data manipulation."
   ]
  },
  {
   "cell_type": "markdown",
   "metadata": {},
   "source": [
    "##### <span style=\"color:#0096FF\">6. What are some examples of tasks that can be performed using both a spreadsheet and a database?</span>"
   ]
  },
  {
   "cell_type": "markdown",
   "metadata": {},
   "source": [
    "- Data entry.\n",
    "- Basic data analysis.\n",
    "- Importing and exporting data (e.g., CSV files).\n",
    "- Storing structured data."
   ]
  },
  {
   "cell_type": "markdown",
   "metadata": {},
   "source": [
    "##### <span style=\"color:#0096FF\">7. What are some examples of tasks that can be performed using neither a spreadsheet nor a database?</span>"
   ]
  },
  {
   "cell_type": "markdown",
   "metadata": {},
   "source": [
    "- Writing unstructured text documents (e.g., reports).\n",
    "- Conducting interviews or surveys without data entry.\n",
    "- Performing real-time data collection (e.g., via sensors)."
   ]
  },
  {
   "cell_type": "markdown",
   "metadata": {},
   "source": [
    "##### <span style=\"color:#0096FF\">8. What are some examples of tasks that can be performed using a spreadsheet but not a database?</span>"
   ]
  },
  {
   "cell_type": "markdown",
   "metadata": {},
   "source": [
    "- Quickly creating simple visualizations (e.g., pie charts).\n",
    "- Using conditional formatting for immediate visual feedback.\n",
    "- Manually formatting data or applying styles easily."
   ]
  },
  {
   "cell_type": "markdown",
   "metadata": {},
   "source": [
    "##### <span style=\"color:#0096FF\">9. What are some examples of tasks that can be performed using a database but not a spreadsheet?</span>"
   ]
  },
  {
   "cell_type": "markdown",
   "metadata": {},
   "source": [
    "- Managing data relationships through foreign keys.\n",
    "- Performing complex joins across multiple tables.\n",
    "- Implementing user-level access controls for data security."
   ]
  },
  {
   "cell_type": "markdown",
   "metadata": {},
   "source": [
    "##### <span style=\"color:#0096FF\">10. What are some examples of tasks that can be performed using both a spreadsheet and a database?</span>"
   ]
  },
  {
   "cell_type": "markdown",
   "metadata": {},
   "source": [
    "- Storing demographic data for patients.\n",
    "- Conducting basic statistical analyses.\n",
    "- Generating reports based on data entries."
   ]
  }
 ],
 "metadata": {
  "language_info": {
   "name": "python"
  }
 },
 "nbformat": 4,
 "nbformat_minor": 2
}
